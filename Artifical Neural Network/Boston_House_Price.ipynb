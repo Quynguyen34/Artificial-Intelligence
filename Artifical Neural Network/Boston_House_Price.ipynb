{
  "nbformat": 4,
  "nbformat_minor": 0,
  "metadata": {
    "colab": {
      "provenance": []
    },
    "kernelspec": {
      "name": "python3",
      "display_name": "Python 3"
    },
    "language_info": {
      "name": "python"
    }
  },
  "cells": [
    {
      "cell_type": "code",
      "source": [
        "import pandas as pd\n",
        "import numpy as np\n",
        "from sklearn.model_selection import train_test_split\n",
        "from sklearn.linear_model import Perceptron\n",
        "from sklearn.metrics import accuracy_score\n",
        "from sklearn.preprocessing import StandardScaler\n",
        "\n",
        "# Load the dataset\n",
        "url = '/content/Housing.csv'\n",
        "data = pd.read_csv(url)\n",
        "data.head()\n",
        "\n",
        "# Preprocess the data\n",
        "data.replace({'yes': 1, 'no': 0, 'furnished': 1, 'unfurnished': 0, 'semi-furnished': 2}, inplace=True)\n",
        "X = data.drop('price', axis=1).values\n",
        "print(X[:20])\n",
        "y = data['price'].values\n",
        "print(y[:20])\n",
        "# Split the data into training and testing sets\n",
        "X_train, X_test, y_train, y_test = train_test_split(X, y, test_size=0.3, random_state=0)\n",
        "\n",
        "# Scale the data using StandardScaler\n",
        "scaler = StandardScaler()\n",
        "X_train_std = scaler.fit_transform(X_train)\n",
        "X_test_std = scaler.transform(X_test)\n",
        "\n",
        "# Train the model using Perceptron algorithm\n",
        "perceptron = Perceptron(max_iter=200000, eta0=0.01, random_state=0)\n",
        "perceptron.fit(X_train_std, y_train)\n",
        "\n",
        "# Make predictions on the testing set\n",
        "y_pred = perceptron.predict(X_test_std)\n",
        "print(y_pred[:20])\n",
        "print(y_test[:20])\n",
        "# Evaluate the model's performance\n",
        "accuracy = accuracy_score(y_test, y_pred)\n",
        "print('Accuracy:', round(accuracy, 2))\n"
      ],
      "metadata": {
        "colab": {
          "base_uri": "https://localhost:8080/"
        },
        "id": "G5fQA9RBMsUC",
        "outputId": "bff535b4-5039-4c16-f54f-22e12e78fc29"
      },
      "execution_count": 94,
      "outputs": [
        {
          "output_type": "stream",
          "name": "stdout",
          "text": [
            "[[ 7420     4     2     3     1     0     0     0     1     2     1     1]\n",
            " [ 8960     4     4     4     1     0     0     0     1     3     0     1]\n",
            " [ 9960     3     2     2     1     0     1     0     0     2     1     2]\n",
            " [ 7500     4     2     2     1     0     1     0     1     3     1     1]\n",
            " [ 7420     4     1     2     1     1     1     0     1     2     0     1]\n",
            " [ 7500     3     3     1     1     0     1     0     1     2     1     2]\n",
            " [ 8580     4     3     4     1     0     0     0     1     2     1     2]\n",
            " [16200     5     3     2     1     0     0     0     0     0     0     0]\n",
            " [ 8100     4     1     2     1     1     1     0     1     2     1     1]\n",
            " [ 5750     3     2     4     1     1     0     0     1     1     1     0]\n",
            " [13200     3     1     2     1     0     1     0     1     2     1     1]\n",
            " [ 6000     4     3     2     1     1     1     1     0     2     0     2]\n",
            " [ 6550     4     2     2     1     0     0     0     1     1     1     2]\n",
            " [ 3500     4     2     2     1     0     0     1     0     2     0     1]\n",
            " [ 7800     3     2     2     1     0     0     0     0     0     1     2]\n",
            " [ 6000     4     1     2     1     0     1     0     0     2     0     2]\n",
            " [ 6600     4     2     2     1     1     1     0     1     1     1     0]\n",
            " [ 8500     3     2     4     1     0     0     0     1     2     0     1]\n",
            " [ 4600     3     2     2     1     1     0     0     1     2     0     1]\n",
            " [ 6420     3     2     2     1     0     0     0     1     1     1     2]]\n",
            "[13300000 12250000 12250000 12215000 11410000 10850000 10150000 10150000\n",
            "  9870000  9800000  9800000  9681000  9310000  9240000  9240000  9100000\n",
            "  9100000  8960000  8890000  8855000]\n",
            "[3780000 7000000 4382000 7000000 3010000 8190000 3780000 4200000 6510000\n",
            " 5775000 5775000 4270000 4515000 4900000 4900000 5040000 2275000 4270000\n",
            " 2275000 4830000]\n",
            "[4585000 6083000 4007500 6930000 2940000 6195000 3535000 2940000 3500000\n",
            " 7980000 6755000 3990000 3150000 3290000 4130000 2660000 4410000 3710000\n",
            " 3360000 4270000]\n",
            "Accuracy: 0.01\n"
          ]
        }
      ]
    }
  ]
}